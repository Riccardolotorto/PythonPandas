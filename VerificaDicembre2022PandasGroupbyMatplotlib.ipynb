{
  "nbformat": 4,
  "nbformat_minor": 0,
  "metadata": {
    "colab": {
      "provenance": [],
      "authorship_tag": "ABX9TyPVBp5Xu3qVW70ir85KuVBB",
      "include_colab_link": true
    },
    "kernelspec": {
      "name": "python3",
      "display_name": "Python 3"
    },
    "language_info": {
      "name": "python"
    }
  },
  "cells": [
    {
      "cell_type": "markdown",
      "metadata": {
        "id": "view-in-github",
        "colab_type": "text"
      },
      "source": [
        "<a href=\"https://colab.research.google.com/github/Riccardolotorto/Python/blob/main/VerificaDicembre2022PandasGroupbyMatplotlib.ipynb\" target=\"_parent\"><img src=\"https://colab.research.google.com/assets/colab-badge.svg\" alt=\"Open In Colab\"/></a>"
      ]
    },
    {
      "cell_type": "markdown",
      "source": [
        "caricare il file"
      ],
      "metadata": {
        "id": "sPd_4hGFzmHk"
      }
    },
    {
      "cell_type": "code",
      "execution_count": null,
      "metadata": {
        "id": "Uar5Av3YzRo7"
      },
      "outputs": [],
      "source": [
        "import pandas as pd \n",
        "df = pd.read_csv(\"https://raw.githubusercontent.com/italia/covid19-opendata-vaccini/master/dati/consegne-vaccini-latest.csv\")\n",
        "df"
      ]
    },
    {
      "cell_type": "markdown",
      "source": [
        "2. visualizzare la data di consegna dove il numero di dosi è maggiore di 50.000"
      ],
      "metadata": {
        "id": "CB3PgLzx3uF7"
      }
    },
    {
      "cell_type": "code",
      "source": [
        "df[df[\"numero_dosi\"] > 50000][[\"data_consegna\"]]"
      ],
      "metadata": {
        "id": "DpoE5aCX4ctR"
      },
      "execution_count": null,
      "outputs": []
    },
    {
      "cell_type": "markdown",
      "source": [
        "3. visualizzare il numero totale di vaccini per ogni regione"
      ],
      "metadata": {
        "id": "1l1qyxT24moC"
      }
    },
    {
      "cell_type": "code",
      "source": [
        "df.groupby(\"reg\")[[\"numero_dosi\"]].sum().sort_values(by=\"numero_dosi\", ascending = False).reset_index()"
      ],
      "metadata": {
        "id": "AD4Y1tAh4qO6"
      },
      "execution_count": null,
      "outputs": []
    },
    {
      "cell_type": "markdown",
      "source": [
        "4. visualizzare il numero di dosi per ogni fornitore"
      ],
      "metadata": {
        "id": "XF2huSQw6QSN"
      }
    },
    {
      "cell_type": "code",
      "source": [
        "df.groupby(\"forn\")[[\"numero_dosi\"]].sum().reset_index()"
      ],
      "metadata": {
        "id": "-05mQgHK6ngU"
      },
      "execution_count": null,
      "outputs": []
    },
    {
      "cell_type": "markdown",
      "source": [
        "5. visualizzare la data dove sono stati consegnati più vaccini"
      ],
      "metadata": {
        "id": "yTPEGJ_-6wu6"
      }
    },
    {
      "cell_type": "code",
      "source": [
        "df[df[\"numero_dosi\"] == df[\"numero_dosi\"].max()][[\"data_consegna\"]]"
      ],
      "metadata": {
        "id": "_-DGHi6F63Ok"
      },
      "execution_count": null,
      "outputs": []
    },
    {
      "cell_type": "markdown",
      "source": [
        "6. fare un grafico sull'esercizio 3 "
      ],
      "metadata": {
        "id": "Gj3khJm-9wbd"
      }
    },
    {
      "cell_type": "code",
      "source": [
        "import matplotlib.pyplot as plt"
      ],
      "metadata": {
        "id": "ZqO--nwP9zOw"
      },
      "execution_count": 12,
      "outputs": []
    },
    {
      "cell_type": "code",
      "source": [
        "#grafico righe verticali\n",
        "dati = df.groupby(\"reg\")[[\"numero_dosi\"]].sum().sort_values(by=\"numero_dosi\", ascending = False).reset_index()\n",
        "regioni = dati[\"reg\"]\n",
        "nDosi = dati[\"numero_dosi\"]\n",
        "\n",
        "fig, ax = plt.subplots(figsize=(15,8))\n",
        "ax.bar(regioni, nDosi, label='totale di vaccini per ogni regione')\n",
        "ax.set_ylabel(\"numero di dosi (in milioni)\")\n",
        "ax.set_xlabel(\"regione\")\n",
        "ax.set_title('totale di vaccini per ogni fornitore')\n",
        "plt.xticks(rotation = 90)\n",
        "ax.legend()"
      ],
      "metadata": {
        "id": "bYdPqvu593f9"
      },
      "execution_count": null,
      "outputs": []
    },
    {
      "cell_type": "code",
      "source": [
        "#grafico righe orizzontali\n",
        "dati = df.groupby(\"reg\")[[\"numero_dosi\"]].sum().sort_values(by=\"numero_dosi\", ascending = False).reset_index()\n",
        "regioni = dati[\"reg\"]\n",
        "nDosi = dati[\"numero_dosi\"]\n",
        "\n",
        "fig, ax = plt.subplots(figsize=(15,8))\n",
        "ax.barh(regioni, nDosi, label='totale di vaccini per ogni regione')\n",
        "ax.set_ylabel(\"regione\")\n",
        "ax.set_xlabel(\"numero di dosi (in milioni)\")\n",
        "ax.set_title('totale di vaccini per ogni fornitore')\n",
        "ax.legend()"
      ],
      "metadata": {
        "id": "FfxP8CApAMi0"
      },
      "execution_count": null,
      "outputs": []
    },
    {
      "cell_type": "markdown",
      "source": [
        "7. fare un grafico a torta sull'esercizio 3 "
      ],
      "metadata": {
        "id": "PkDgrG4MAb4j"
      }
    },
    {
      "cell_type": "code",
      "source": [
        "dati = df.groupby(\"reg\")[[\"numero_dosi\"]].sum().sort_values(by=\"numero_dosi\", ascending = False).reset_index()\n",
        "regioni = dati[\"reg\"]\n",
        "nDosi = dati[\"numero_dosi\"]\n",
        "plt.figure(figsize=(16, 12))\n",
        "plt.pie(nDosi, labels=regioni, autopct = '%1.0f%%') \n",
        "plt.show()"
      ],
      "metadata": {
        "id": "swLQPKh0AelK"
      },
      "execution_count": null,
      "outputs": []
    },
    {
      "cell_type": "markdown",
      "source": [
        "8. visualizzare il numero di vaccini per ogni regione di una fornitore inserito dall'utente. Ordinare in ordine\n",
        "decrescente sul numero di vaccini"
      ],
      "metadata": {
        "id": "dTobx9grB6bP"
      }
    },
    {
      "cell_type": "code",
      "source": [
        "fornitore_inserito = input(\"inserire un fornitore: \")\n",
        "forn = df[df[\"forn\"] == fornitore_inserito]\n",
        "dfDosi = forn.groupby(\"reg\")[[\"numero_dosi\"]].sum().sort_values(by=\"numero_dosi\", ascending = False).reset_index()\n",
        "dfDosi"
      ],
      "metadata": {
        "id": "th9wp5-TB-tS"
      },
      "execution_count": null,
      "outputs": []
    }
  ]
}